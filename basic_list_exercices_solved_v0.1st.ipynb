{
 "cells": [
  {
   "cell_type": "code",
   "execution_count": 199,
   "metadata": {
    "collapsed": false
   },
   "outputs": [
    {
     "data": {
      "text/plain": [
       "2"
      ]
     },
     "execution_count": 199,
     "metadata": {},
     "output_type": "execute_result"
    }
   ],
   "source": [
    "## A. match_ends\n",
    "## Given a list of strings, return the count of the number of strings where the string length is 2 or more and the \n",
    "## first and last chars of the string are the same.\n",
    "import string\n",
    "\n",
    "list = [\"GameofThrones\",\"JonSnowJ\",\"KhaleesiK\",\"Lannisters\",\"J\",\"TL\",\"MajorSpoilersAhead\"]\n",
    "\n",
    "def match_ends(words):\n",
    "    count=0\n",
    "    for word in words:\n",
    "        if len(word) >= 2 and word[0] == word[-1]:\n",
    "            count=count+1\n",
    "    return count\n",
    "match_ends(list)"
   ]
  },
  {
   "cell_type": "code",
   "execution_count": 99,
   "metadata": {
    "collapsed": false
   },
   "outputs": [
    {
     "name": "stdout",
     "output_type": "stream",
     "text": [
      "['xanadu', 'xyz', 'aardvark', 'apple', 'mix']\n"
     ]
    }
   ],
   "source": [
    "## B. Given a list of strings, return a list with the strings in sorted order, except group all the strings that begin with 'x' first.\n",
    "##e.g. ['mix', 'xyz', 'apple', 'xanadu', 'aardvark'] yields ['xanadu', 'xyz', 'aardvark', 'apple', 'mix']\n",
    "## Hint: this can be done by making 2 lists and sorting each of them before combining them.\n",
    "list = ['mix', 'xyz', 'apple', 'xanadu', 'aardvark']\n",
    "xlist = []\n",
    "restlist = []\n",
    "\n",
    "def create_list(words):\n",
    "    for word in words:\n",
    "        if(word[0]=='x'):\n",
    "            xlist.append(word)\n",
    "        else:\n",
    "            restlist.append(word)\n",
    "\n",
    "def front_x(tuples):\n",
    "    create_list(tuples)\n",
    "    xlist.sort()\n",
    "    restlist.sort()\n",
    "    sorted_list=xlist+restlist\n",
    "    print sorted_list\n",
    "\n",
    "front_x(list)"
   ]
  },
  {
   "cell_type": "code",
   "execution_count": 115,
   "metadata": {
    "collapsed": false
   },
   "outputs": [
    {
     "data": {
      "text/plain": [
       "[(2, 2), (1, 3), (3, 4, 5), (1, 7)]"
      ]
     },
     "execution_count": 115,
     "metadata": {},
     "output_type": "execute_result"
    }
   ],
   "source": [
    "## C. Given a list of non-empty tuples, return a list sorted in increasing order by the last element in each tuple.\n",
    "# e.g. [(1, 7), (1, 3), (3, 4, 5), (2, 2)] yields [(2, 2), (1, 3), (3, 4, 5), (1, 7)]\n",
    "# Hint: use a custom key= function to extract the last element form each tuple.\n",
    "\n",
    "list = [(1, 7), (1, 3), (3, 4, 5), (2, 2)]\n",
    "def sort_last(tuples):\n",
    "    \n",
    "    def last_element(t):\n",
    "        return t[-1]\n",
    "    \n",
    "    return sorted(tuples, key=last_element)\n",
    "\n",
    "sort_last(list)"
   ]
  },
  {
   "cell_type": "code",
   "execution_count": 302,
   "metadata": {
    "collapsed": false,
    "scrolled": false
   },
   "outputs": [
    {
     "name": "stdout",
     "output_type": "stream",
     "text": [
      "match_ends\n",
      "\n",
      " OK got: 3 expected: 3\n",
      " OK got: 2 expected: 2\n",
      " OK got: 1 expected: 1\n",
      "front_x\n",
      "\n",
      " OK got: ['xaa', 'xzz', 'axx', 'bbb', 'ccc'] expected: ['xaa', 'xzz', 'axx', 'bbb', 'ccc']\n",
      " OK got: ['xaa', 'xcc', 'aaa', 'bbb', 'ccc'] expected: ['xaa', 'xcc', 'aaa', 'bbb', 'ccc']\n",
      " OK got: ['xanadu', 'xyz', 'aardvark', 'apple', 'mix'] expected: ['xanadu', 'xyz', 'aardvark', 'apple', 'mix']\n"
     ]
    }
   ],
   "source": [
    "# Simple provided test() function used in main() to print what each function returns vs. what it's supposed to return.\n",
    "def test(got, expected):\n",
    "    prefix = 'OK' if got == expected else ' X'\n",
    "    # !r prints a Python representation of the strings (complete with quotes)\n",
    "    print ' {} got: {!r} expected: {!r}'.format(prefix, got, expected)\n",
    "\n",
    "def match_ends(words):\n",
    "    count=0\n",
    "    for word in words:\n",
    "        if len(word) >= 2 and word[0] == word[-1]:\n",
    "            count=count+1\n",
    "    return count\n",
    "\n",
    "def front_x(tuples):\n",
    "    xlist = []\n",
    "    restlist = []\n",
    "    for word in tuples:\n",
    "        if(word[0]=='x'):\n",
    "            xlist.append(word)\n",
    "        else:\n",
    "            restlist.append(word)\n",
    "    xlist.sort()\n",
    "    restlist.sort()\n",
    "    sorted_list=xlist+restlist\n",
    "    return sorted_list\n",
    "    \n",
    "def main():\n",
    "    print 'match_ends\\n'\n",
    "    test(match_ends(['aba', 'xyz', 'aa', 'x', 'bbb']), 3)\n",
    "    test(match_ends(['', 'x', 'xy', 'xyx', 'xx']), 2)\n",
    "    test(match_ends(['aaa', 'be', 'abc', 'hello']), 1)\n",
    "\n",
    "    print 'front_x\\n'\n",
    "    test(front_x(['bbb', 'ccc', 'axx', 'xzz', 'xaa']),['xaa', 'xzz', 'axx', 'bbb', 'ccc'])\n",
    "    test(front_x(['ccc', 'bbb', 'aaa', 'xcc', 'xaa']),['xaa', 'xcc', 'aaa', 'bbb', 'ccc'])\n",
    "    test(front_x(['mix', 'xyz', 'apple', 'xanadu', 'aardvark']),['xanadu', 'xyz', 'aardvark', 'apple', 'mix'])\n",
    "\n",
    "main()"
   ]
  },
  {
   "cell_type": "code",
   "execution_count": 192,
   "metadata": {
    "collapsed": false,
    "scrolled": true
   },
   "outputs": [
    {
     "name": "stdout",
     "output_type": "stream",
     "text": [
      "[1, 2, 3, 4, 5]\n"
     ]
    }
   ],
   "source": [
    "# D. Given a list of numbers, return a list where all adjacent == elements have been reduced to a single element, so [1, 2, 2, 3]\n",
    "# returns [1, 2, 3]. You may create a new list or modify the passed in list.\n",
    "\n",
    "list = [1,2,2,3,4,4,5]\n",
    "\n",
    "def remove_adjacent(nums):\n",
    "    unique_list = []\n",
    "    for i in range(0,len(nums)):\n",
    "        if nums[i]!=nums[i-1]:\n",
    "            unique_list.append(nums[i])\n",
    "    return unique_list\n",
    "remove_adjacent(list)"
   ]
  },
  {
   "cell_type": "code",
   "execution_count": 278,
   "metadata": {
    "collapsed": false
   },
   "outputs": [
    {
     "data": {
      "text/plain": [
       "[1, 3, 4, 6, 7, 9, 10, 11]"
      ]
     },
     "execution_count": 278,
     "metadata": {},
     "output_type": "execute_result"
    }
   ],
   "source": [
    "# E. Given two lists sorted in increasing order, create and return a merged list of all the elements in sorted order. \n",
    "#You may modify the passed in lists. Ideally, the solution should work in \"linear\" time, making a single pass of both lists.\n",
    "\n",
    "list1 = [1,6,9,10]\n",
    "list2 = [3,4,7,11]\n",
    "\n",
    "def linear_merge(l, m):\n",
    "    result = []\n",
    "    i = j = 0\n",
    "    total = len(l) + len(m)\n",
    "    while len(result) != total:\n",
    "        if len(l) == i:\n",
    "            result += m[j:]\n",
    "            break\n",
    "        elif len(m) == j:\n",
    "            result += l[i:]\n",
    "            break\n",
    "        elif l[i] < m[j]:\n",
    "            result.append(l[i])\n",
    "            i += 1\n",
    "        else:\n",
    "            result.append(m[j])\n",
    "            j += 1\n",
    "    return result\n",
    "linear_merge(list1,list2)"
   ]
  },
  {
   "cell_type": "code",
   "execution_count": 303,
   "metadata": {
    "collapsed": false
   },
   "outputs": [
    {
     "name": "stdout",
     "output_type": "stream",
     "text": [
      "remove_adjacent\n",
      " OK got: [1, 2, 3] expected: [1, 2, 3]\n",
      " OK got: [2, 3] expected: [2, 3]\n",
      " OK got: [] expected: []\n",
      "linear_merge\n",
      " OK got: ['aa', 'bb', 'cc', 'xx', 'zz'] expected: ['aa', 'bb', 'cc', 'xx', 'zz']\n",
      " OK got: ['aa', 'bb', 'cc', 'xx', 'zz'] expected: ['aa', 'bb', 'cc', 'xx', 'zz']\n",
      " OK got: ['aa', 'aa', 'aa', 'bb', 'bb'] expected: ['aa', 'aa', 'aa', 'bb', 'bb']\n"
     ]
    }
   ],
   "source": [
    "def test(got, expected):\n",
    "    prefix = 'OK' if got == expected else ' X'\n",
    "    # !r prints a Python representation of the strings (complete with quotes)\n",
    "    print ' {} got: {!r} expected: {!r}'.format(prefix, got, expected)\n",
    "\n",
    "def remove_adjacent(nums):\n",
    "    unique_list = []\n",
    "    for i in range(0,len(nums)):\n",
    "        if nums[i]!=nums[i-1]:\n",
    "            unique_list.append(nums[i])\n",
    "    return unique_list\n",
    "\n",
    "def linear_merge(l, m):\n",
    "    result = []\n",
    "    i = j = 0\n",
    "    total = len(l) + len(m)\n",
    "    while len(result) != total:\n",
    "        if len(l) == i:\n",
    "            result += m[j:]\n",
    "            break\n",
    "        elif len(m) == j:\n",
    "            result += l[i:]\n",
    "            break\n",
    "        elif l[i] < m[j]:\n",
    "            result.append(l[i])\n",
    "            i += 1\n",
    "        else:\n",
    "            result.append(m[j])\n",
    "            j += 1\n",
    "    return result\n",
    "\n",
    "def main():\n",
    "    print 'remove_adjacent'\n",
    "    test(remove_adjacent([1, 2, 2, 3]), [1, 2, 3])\n",
    "    test(remove_adjacent([2, 2, 3, 3, 3]), [2, 3])\n",
    "    test(remove_adjacent([]), [])\n",
    "    print 'linear_merge'\n",
    "    test(linear_merge(['aa', 'xx', 'zz'], ['bb', 'cc']),['aa', 'bb', 'cc', 'xx', 'zz'])\n",
    "    test(linear_merge(['aa', 'xx'], ['bb', 'cc', 'zz']),['aa', 'bb', 'cc', 'xx', 'zz'])\n",
    "    test(linear_merge(['aa', 'aa'], ['aa', 'bb', 'bb']),['aa', 'aa', 'aa', 'bb', 'bb'])\n",
    "\n",
    "main()"
   ]
  }
 ],
 "metadata": {
  "kernelspec": {
   "display_name": "Python 2",
   "language": "python",
   "name": "python2"
  },
  "language_info": {
   "codemirror_mode": {
    "name": "ipython",
    "version": 2
   },
   "file_extension": ".py",
   "mimetype": "text/x-python",
   "name": "python",
   "nbconvert_exporter": "python",
   "pygments_lexer": "ipython2",
   "version": "2.7.11"
  }
 },
 "nbformat": 4,
 "nbformat_minor": 0
}
